{
 "cells": [
  {
   "cell_type": "code",
   "execution_count": 96,
   "metadata": {},
   "outputs": [],
   "source": [
    "import pandas as pd\n",
    "import matplotlib.pyplot as plt\n",
    "import numpy as np"
   ]
  },
  {
   "cell_type": "markdown",
   "metadata": {},
   "source": [
    "### Load the dataset from the file Ecommerce.csv"
   ]
  },
  {
   "cell_type": "markdown",
   "metadata": {},
   "source": [
    "```\n",
    "This dataset includes the following data for 200 online customers:\n",
    "\n",
    "- Email\n",
    "- Adress\n",
    "- Avatar\n",
    "- Avg Session Length (everage time they spent on usage)\n",
    "- Time on App (time they spent using the application)\n",
    "- Time on Website (time they spent using the website)\n",
    "- Length of Membership (for how long they have been a user)\n",
    "- Yearly Amount Spent (how much money they spend yearly)\n",
    "\n",
    "Yout goal will be to estimate the value of the Yearly Amount Spent using the feature(s) of the users\n",
    "```"
   ]
  },
  {
   "cell_type": "code",
   "execution_count": 97,
   "metadata": {},
   "outputs": [
    {
     "data": {
      "text/html": [
       "<div>\n",
       "<style scoped>\n",
       "    .dataframe tbody tr th:only-of-type {\n",
       "        vertical-align: middle;\n",
       "    }\n",
       "\n",
       "    .dataframe tbody tr th {\n",
       "        vertical-align: top;\n",
       "    }\n",
       "\n",
       "    .dataframe thead th {\n",
       "        text-align: right;\n",
       "    }\n",
       "</style>\n",
       "<table border=\"1\" class=\"dataframe\">\n",
       "  <thead>\n",
       "    <tr style=\"text-align: right;\">\n",
       "      <th></th>\n",
       "      <th>Email</th>\n",
       "      <th>Address</th>\n",
       "      <th>Avatar</th>\n",
       "      <th>Avg Session Length</th>\n",
       "      <th>Time on App</th>\n",
       "      <th>Time on Website</th>\n",
       "      <th>Length of Membership</th>\n",
       "      <th>Yearly Amount Spent</th>\n",
       "    </tr>\n",
       "  </thead>\n",
       "  <tbody>\n",
       "    <tr>\n",
       "      <td>0</td>\n",
       "      <td>mstephenson@fernandez.com</td>\n",
       "      <td>835 Frank TunnelWrightmouth, MI 82180-9605</td>\n",
       "      <td>Violet</td>\n",
       "      <td>34.497268</td>\n",
       "      <td>12.655651</td>\n",
       "      <td>39.577668</td>\n",
       "      <td>4.082621</td>\n",
       "      <td>587.951054</td>\n",
       "    </tr>\n",
       "    <tr>\n",
       "      <td>1</td>\n",
       "      <td>hduke@hotmail.com</td>\n",
       "      <td>4547 Archer CommonDiazchester, CA 06566-8576</td>\n",
       "      <td>DarkGreen</td>\n",
       "      <td>31.926272</td>\n",
       "      <td>11.109461</td>\n",
       "      <td>37.268959</td>\n",
       "      <td>2.664034</td>\n",
       "      <td>392.204933</td>\n",
       "    </tr>\n",
       "    <tr>\n",
       "      <td>2</td>\n",
       "      <td>pallen@yahoo.com</td>\n",
       "      <td>24645 Valerie Unions Suite 582Cobbborough, DC ...</td>\n",
       "      <td>Bisque</td>\n",
       "      <td>33.000915</td>\n",
       "      <td>11.330278</td>\n",
       "      <td>37.110597</td>\n",
       "      <td>4.104543</td>\n",
       "      <td>487.547505</td>\n",
       "    </tr>\n",
       "    <tr>\n",
       "      <td>3</td>\n",
       "      <td>riverarebecca@gmail.com</td>\n",
       "      <td>1414 David ThroughwayPort Jason, OH 22070-1220</td>\n",
       "      <td>SaddleBrown</td>\n",
       "      <td>34.305557</td>\n",
       "      <td>13.717514</td>\n",
       "      <td>36.721283</td>\n",
       "      <td>3.120179</td>\n",
       "      <td>581.852344</td>\n",
       "    </tr>\n",
       "    <tr>\n",
       "      <td>4</td>\n",
       "      <td>mstephens@davidson-herman.com</td>\n",
       "      <td>14023 Rodriguez PassagePort Jacobville, PR 372...</td>\n",
       "      <td>MediumAquaMarine</td>\n",
       "      <td>33.330673</td>\n",
       "      <td>12.795189</td>\n",
       "      <td>37.536653</td>\n",
       "      <td>4.446308</td>\n",
       "      <td>599.406092</td>\n",
       "    </tr>\n",
       "  </tbody>\n",
       "</table>\n",
       "</div>"
      ],
      "text/plain": [
       "                           Email  \\\n",
       "0      mstephenson@fernandez.com   \n",
       "1              hduke@hotmail.com   \n",
       "2               pallen@yahoo.com   \n",
       "3        riverarebecca@gmail.com   \n",
       "4  mstephens@davidson-herman.com   \n",
       "\n",
       "                                             Address            Avatar  \\\n",
       "0         835 Frank TunnelWrightmouth, MI 82180-9605            Violet   \n",
       "1       4547 Archer CommonDiazchester, CA 06566-8576         DarkGreen   \n",
       "2  24645 Valerie Unions Suite 582Cobbborough, DC ...            Bisque   \n",
       "3     1414 David ThroughwayPort Jason, OH 22070-1220       SaddleBrown   \n",
       "4  14023 Rodriguez PassagePort Jacobville, PR 372...  MediumAquaMarine   \n",
       "\n",
       "   Avg Session Length  Time on App  Time on Website  Length of Membership  \\\n",
       "0           34.497268    12.655651        39.577668              4.082621   \n",
       "1           31.926272    11.109461        37.268959              2.664034   \n",
       "2           33.000915    11.330278        37.110597              4.104543   \n",
       "3           34.305557    13.717514        36.721283              3.120179   \n",
       "4           33.330673    12.795189        37.536653              4.446308   \n",
       "\n",
       "   Yearly Amount Spent  \n",
       "0           587.951054  \n",
       "1           392.204933  \n",
       "2           487.547505  \n",
       "3           581.852344  \n",
       "4           599.406092  "
      ]
     },
     "execution_count": 97,
     "metadata": {},
     "output_type": "execute_result"
    }
   ],
   "source": [
    "data = pd.read_csv('/Users/ira_aghababyan/Desktop/ML Course/Programming/Linear Regression/Ecommerce.csv')\n",
    "data.head()"
   ]
  },
  {
   "cell_type": "markdown",
   "metadata": {},
   "source": [
    "### Get rid of non-numerical columns of the dataset"
   ]
  },
  {
   "cell_type": "code",
   "execution_count": 98,
   "metadata": {},
   "outputs": [],
   "source": [
    "df = data.drop(['Email', 'Address', 'Avatar'], axis = 1)"
   ]
  },
  {
   "cell_type": "markdown",
   "metadata": {},
   "source": [
    "### Use Yearly Amount Spent as your target variable. Plot the relationship of each of the numerical features with the target variable"
   ]
  },
  {
   "cell_type": "code",
   "execution_count": 99,
   "metadata": {},
   "outputs": [
    {
     "data": {
      "text/plain": [
       "Text(18.125, 0.5, 'Yearly Amount Spent')"
      ]
     },
     "execution_count": 99,
     "metadata": {},
     "output_type": "execute_result"
    },
    {
     "data": {
      "image/png": "[encoded data removed]",
      "text/plain": [
       "<Figure size 360x720 with 4 Axes>"
      ]
     },
     "metadata": {
      "needs_background": "light"
     },
     "output_type": "display_data"
    }
   ],
   "source": [
    "fig, axs = plt.subplots(4, 1)\n",
    "fig.set_figwidth(5)\n",
    "fig.set_figheight(10)\n",
    "fig.tight_layout(h_pad = 5)\n",
    "\n",
    "\n",
    "axs[0].scatter(data['Avg Session Length'], data['Yearly Amount Spent'])\n",
    "axs[0].set_xlabel('Avg Session Length')\n",
    "axs[0].set_ylabel('Yearly Amount Spent')\n",
    "\n",
    "axs[1].scatter(data['Time on App'], data['Yearly Amount Spent'])\n",
    "axs[1].set_xlabel('Time on App')\n",
    "axs[1].set_ylabel('Yearly Amount Spent')\n",
    "\n",
    "axs[2].scatter(data['Time on Website'], data['Yearly Amount Spent'])\n",
    "axs[2].set_xlabel('Time on Website')\n",
    "axs[2].set_ylabel('Yearly Amount Spent')\n",
    "\n",
    "axs[3].scatter(data['Length of Membership'], data['Yearly Amount Spent'])\n",
    "axs[3].set_xlabel('Length of Membership')\n",
    "axs[3].set_ylabel('Yearly Amount Spent')\n"
   ]
  },
  {
   "cell_type": "code",
   "execution_count": 100,
   "metadata": {},
   "outputs": [
    {
     "data": {
      "text/html": [
       "<div>\n",
       "<style scoped>\n",
       "    .dataframe tbody tr th:only-of-type {\n",
       "        vertical-align: middle;\n",
       "    }\n",
       "\n",
       "    .dataframe tbody tr th {\n",
       "        vertical-align: top;\n",
       "    }\n",
       "\n",
       "    .dataframe thead th {\n",
       "        text-align: right;\n",
       "    }\n",
       "</style>\n",
       "<table border=\"1\" class=\"dataframe\">\n",
       "  <thead>\n",
       "    <tr style=\"text-align: right;\">\n",
       "      <th></th>\n",
       "      <th>Avg Session Length</th>\n",
       "      <th>Time on App</th>\n",
       "      <th>Time on Website</th>\n",
       "      <th>Length of Membership</th>\n",
       "      <th>Yearly Amount Spent</th>\n",
       "    </tr>\n",
       "  </thead>\n",
       "  <tbody>\n",
       "    <tr>\n",
       "      <td>Avg Session Length</td>\n",
       "      <td>1.000000</td>\n",
       "      <td>-0.027826</td>\n",
       "      <td>-0.034987</td>\n",
       "      <td>0.060247</td>\n",
       "      <td>0.355088</td>\n",
       "    </tr>\n",
       "    <tr>\n",
       "      <td>Time on App</td>\n",
       "      <td>-0.027826</td>\n",
       "      <td>1.000000</td>\n",
       "      <td>0.082388</td>\n",
       "      <td>0.029143</td>\n",
       "      <td>0.499328</td>\n",
       "    </tr>\n",
       "    <tr>\n",
       "      <td>Time on Website</td>\n",
       "      <td>-0.034987</td>\n",
       "      <td>0.082388</td>\n",
       "      <td>1.000000</td>\n",
       "      <td>-0.047582</td>\n",
       "      <td>-0.002641</td>\n",
       "    </tr>\n",
       "    <tr>\n",
       "      <td>Length of Membership</td>\n",
       "      <td>0.060247</td>\n",
       "      <td>0.029143</td>\n",
       "      <td>-0.047582</td>\n",
       "      <td>1.000000</td>\n",
       "      <td>0.809084</td>\n",
       "    </tr>\n",
       "    <tr>\n",
       "      <td>Yearly Amount Spent</td>\n",
       "      <td>0.355088</td>\n",
       "      <td>0.499328</td>\n",
       "      <td>-0.002641</td>\n",
       "      <td>0.809084</td>\n",
       "      <td>1.000000</td>\n",
       "    </tr>\n",
       "  </tbody>\n",
       "</table>\n",
       "</div>"
      ],
      "text/plain": [
       "                      Avg Session Length  Time on App  Time on Website  \\\n",
       "Avg Session Length              1.000000    -0.027826        -0.034987   \n",
       "Time on App                    -0.027826     1.000000         0.082388   \n",
       "Time on Website                -0.034987     0.082388         1.000000   \n",
       "Length of Membership            0.060247     0.029143        -0.047582   \n",
       "Yearly Amount Spent             0.355088     0.499328        -0.002641   \n",
       "\n",
       "                      Length of Membership  Yearly Amount Spent  \n",
       "Avg Session Length                0.060247             0.355088  \n",
       "Time on App                       0.029143             0.499328  \n",
       "Time on Website                  -0.047582            -0.002641  \n",
       "Length of Membership              1.000000             0.809084  \n",
       "Yearly Amount Spent               0.809084             1.000000  "
      ]
     },
     "execution_count": 100,
     "metadata": {},
     "output_type": "execute_result"
    }
   ],
   "source": [
    "df.corr()"
   ]
  },
  {
   "cell_type": "markdown",
   "metadata": {},
   "source": [
    "### Leave only one feature that has a linear relationship with the target variable."
   ]
  },
  {
   "cell_type": "code",
   "execution_count": 101,
   "metadata": {},
   "outputs": [],
   "source": [
    "X = df[['Length of Membership']]\n",
    "Y = df['Yearly Amount Spent']"
   ]
  },
  {
   "cell_type": "markdown",
   "metadata": {},
   "source": [
    "### Divide the dataset into training and test sets with the ratio 80:20."
   ]
  },
  {
   "cell_type": "code",
   "execution_count": 102,
   "metadata": {},
   "outputs": [],
   "source": [
    "from sklearn.model_selection import train_test_split\n",
    "xTrain, xTest, yTrain, yTest = train_test_split(X,Y, test_size=0.2, random_state=42)"
   ]
  },
  {
   "cell_type": "code",
   "execution_count": 103,
   "metadata": {},
   "outputs": [
    {
     "data": {
      "text/plain": [
       "(400, 100)"
      ]
     },
     "execution_count": 103,
     "metadata": {},
     "output_type": "execute_result"
    }
   ],
   "source": [
    "len(xTrain), len(xTest)"
   ]
  },
  {
   "cell_type": "code",
   "execution_count": 104,
   "metadata": {},
   "outputs": [
    {
     "data": {
      "text/html": [
       "<div>\n",
       "<style scoped>\n",
       "    .dataframe tbody tr th:only-of-type {\n",
       "        vertical-align: middle;\n",
       "    }\n",
       "\n",
       "    .dataframe tbody tr th {\n",
       "        vertical-align: top;\n",
       "    }\n",
       "\n",
       "    .dataframe thead th {\n",
       "        text-align: right;\n",
       "    }\n",
       "</style>\n",
       "<table border=\"1\" class=\"dataframe\">\n",
       "  <thead>\n",
       "    <tr style=\"text-align: right;\">\n",
       "      <th></th>\n",
       "      <th>Length of Membership</th>\n",
       "    </tr>\n",
       "  </thead>\n",
       "  <tbody>\n",
       "    <tr>\n",
       "      <td>249</td>\n",
       "      <td>3.634996</td>\n",
       "    </tr>\n",
       "    <tr>\n",
       "      <td>433</td>\n",
       "      <td>2.117383</td>\n",
       "    </tr>\n",
       "    <tr>\n",
       "      <td>19</td>\n",
       "      <td>4.064549</td>\n",
       "    </tr>\n",
       "    <tr>\n",
       "      <td>322</td>\n",
       "      <td>4.086566</td>\n",
       "    </tr>\n",
       "    <tr>\n",
       "      <td>332</td>\n",
       "      <td>2.190132</td>\n",
       "    </tr>\n",
       "  </tbody>\n",
       "</table>\n",
       "</div>"
      ],
      "text/plain": [
       "     Length of Membership\n",
       "249              3.634996\n",
       "433              2.117383\n",
       "19               4.064549\n",
       "322              4.086566\n",
       "332              2.190132"
      ]
     },
     "execution_count": 104,
     "metadata": {},
     "output_type": "execute_result"
    }
   ],
   "source": [
    "xTrain.head()"
   ]
  },
  {
   "cell_type": "code",
   "execution_count": 105,
   "metadata": {},
   "outputs": [
    {
     "data": {
      "text/html": [
       "<div>\n",
       "<style scoped>\n",
       "    .dataframe tbody tr th:only-of-type {\n",
       "        vertical-align: middle;\n",
       "    }\n",
       "\n",
       "    .dataframe tbody tr th {\n",
       "        vertical-align: top;\n",
       "    }\n",
       "\n",
       "    .dataframe thead th {\n",
       "        text-align: right;\n",
       "    }\n",
       "</style>\n",
       "<table border=\"1\" class=\"dataframe\">\n",
       "  <thead>\n",
       "    <tr style=\"text-align: right;\">\n",
       "      <th></th>\n",
       "      <th>Length of Membership</th>\n",
       "    </tr>\n",
       "  </thead>\n",
       "  <tbody>\n",
       "    <tr>\n",
       "      <td>361</td>\n",
       "      <td>3.434560</td>\n",
       "    </tr>\n",
       "    <tr>\n",
       "      <td>73</td>\n",
       "      <td>3.851579</td>\n",
       "    </tr>\n",
       "    <tr>\n",
       "      <td>374</td>\n",
       "      <td>4.238296</td>\n",
       "    </tr>\n",
       "    <tr>\n",
       "      <td>155</td>\n",
       "      <td>2.941411</td>\n",
       "    </tr>\n",
       "    <tr>\n",
       "      <td>104</td>\n",
       "      <td>3.428860</td>\n",
       "    </tr>\n",
       "  </tbody>\n",
       "</table>\n",
       "</div>"
      ],
      "text/plain": [
       "     Length of Membership\n",
       "361              3.434560\n",
       "73               3.851579\n",
       "374              4.238296\n",
       "155              2.941411\n",
       "104              3.428860"
      ]
     },
     "execution_count": 105,
     "metadata": {},
     "output_type": "execute_result"
    }
   ],
   "source": [
    "xTest.head()"
   ]
  },
  {
   "cell_type": "code",
   "execution_count": 106,
   "metadata": {},
   "outputs": [
    {
     "data": {
      "text/plain": [
       "249    518.786483\n",
       "433    434.144202\n",
       "19     605.061039\n",
       "322    478.262126\n",
       "332    424.202827\n",
       "Name: Yearly Amount Spent, dtype: float64"
      ]
     },
     "execution_count": 106,
     "metadata": {},
     "output_type": "execute_result"
    }
   ],
   "source": [
    "yTrain.head()"
   ]
  },
  {
   "cell_type": "markdown",
   "metadata": {},
   "source": [
    "### Use the resulting train and test sets with the next 2 functions to fit linear regression and plot the resulting regression line."
   ]
  },
  {
   "cell_type": "markdown",
   "metadata": {},
   "source": [
    "The first function is `fit_1d_linear_regression` that takes two vectors $x$ and $y$, and returns a numpy array ($\\beta_0, \\beta_1)$, where $\\beta_0$ is the intercept of the line, and $\\beta_1$ is the slope. "
   ]
  },
  {
   "cell_type": "code",
   "execution_count": 107,
   "metadata": {},
   "outputs": [],
   "source": [
    "def fit_1d_linear_regression(data_vector, response_vector):\n",
    "    \"\"\"\n",
    "    :param data_vector: A pandas series object (i.e. a column of a dataframe),\n",
    "                        where each element is a data point (x)\n",
    "    :param response_vector: A pandas series object (i.e. a column of a dataframe),\n",
    "                        where each element is label (y)\n",
    "    :return: numpy array beta of coefficients of the regression\n",
    "    \n",
    "    Note: You can avoid the intercept for simplicity \n",
    "    or include the intercept for an extra point\n",
    "    \"\"\"\n",
    "    \n",
    "    data_vector['ones'] = 1\n",
    "    data_vector = data_vector[['ones', 'Length of Membership']]\n",
    "    beta = np.linalg.inv(data_vector.T.dot(data_vector)).dot(data_vector.T).dot(response_vector)\n",
    "    \n",
    "    return beta"
   ]
  },
  {
   "cell_type": "markdown",
   "metadata": {},
   "source": [
    "The second function is `plot_line` function, that takes $\\beta_0, \\beta_1, x, y$ and plots a scatter plot of the data, and the line $y = \\beta_0 + \\beta_1 x$. And saves the plot in `YOURNAME.png`"
   ]
  },
  {
   "cell_type": "code",
   "execution_count": 108,
   "metadata": {},
   "outputs": [],
   "source": [
    "def plot_fitted_line(b0,\n",
    "                     b1,\n",
    "                     x,\n",
    "                     y,\n",
    "                     username: str):\n",
    "    \"\"\"\n",
    "    :param b0: Intersept of line to plot\n",
    "    Note: avoid this if you don't have an intercept in the previous function\n",
    "    :param b1: Slope of the line to plot\n",
    "    :param x: A pandas series object (i.e. a column of a dataframe),\n",
    "                        where each element is a data point (x coordinates)\n",
    "    :param y: A pandas series object (i.e. a column of a dataframe),\n",
    "                        where each element is a label (y coordinates)\n",
    "    \"\"\"\n",
    "    a = plt.scatter(X,Y,color = 'k')\n",
    "    b = plt.plot(X, b0+b1*X, color = 'b', lw = 5)\n",
    "    plt.title = \"Regression line TV vs Sales\"\n",
    "    plt.xlabel(\"Length of Membership\")\n",
    "    plt.ylabel(\"Yearly Amount Spent\")\n",
    "    plt.show()\n"
   ]
  },
  {
   "cell_type": "code",
   "execution_count": 109,
   "metadata": {},
   "outputs": [
    {
     "name": "stderr",
     "output_type": "stream",
     "text": [
      "/Users/ira_aghababyan/opt/anaconda3/lib/python3.7/site-packages/ipykernel_launcher.py:13: SettingWithCopyWarning: \n",
      "A value is trying to be set on a copy of a slice from a DataFrame.\n",
      "Try using .loc[row_indexer,col_indexer] = value instead\n",
      "\n",
      "See the caveats in the documentation: http://pandas.pydata.org/pandas-docs/stable/user_guide/indexing.html#returning-a-view-versus-a-copy\n",
      "  del sys.path[0]\n"
     ]
    },
    {
     "data": {
      "text/plain": [
       "(271.3521128033929, 64.64010065386728)"
      ]
     },
     "execution_count": 109,
     "metadata": {},
     "output_type": "execute_result"
    }
   ],
   "source": [
    "b0,b1 = fit_1d_linear_regression(xTrain, yTrain)\n",
    "b0,b1"
   ]
  },
  {
   "cell_type": "code",
   "execution_count": 110,
   "metadata": {},
   "outputs": [
    {
     "data": {
      "image/png": "[encoded data removed]",
      "text/plain": [
       "<Figure size 432x288 with 1 Axes>"
      ]
     },
     "metadata": {
      "needs_background": "light"
     },
     "output_type": "display_data"
    }
   ],
   "source": [
    "plot_fitted_line(b0, b1, xTrain, yTrain, 'Linear Regression Line')"
   ]
  },
  {
   "cell_type": "markdown",
   "metadata": {},
   "source": [
    "### Plot example"
   ]
  },
  {
   "attachments": {
    "image.png": {
     "image/png": "[encoded data removed]"
    }
   },
   "cell_type": "markdown",
   "metadata": {},
   "source": [
    "![image.png](attachment:image.png)"
   ]
  },
  {
   "cell_type": "markdown",
   "metadata": {},
   "source": [
    "### Now fit the linear regression to the data containing only 1 feature using sklearn and compare the results with your own fit_1d_linear_regression function"
   ]
  },
  {
   "cell_type": "code",
   "execution_count": 111,
   "metadata": {},
   "outputs": [
    {
     "name": "stdout",
     "output_type": "stream",
     "text": [
      "271.35211280339314 [64.64010065]\n"
     ]
    },
    {
     "data": {
      "image/png": "[encoded data removed]",
      "text/plain": [
       "<Figure size 432x288 with 1 Axes>"
      ]
     },
     "metadata": {
      "needs_background": "light"
     },
     "output_type": "display_data"
    }
   ],
   "source": [
    "from sklearn.linear_model import LinearRegression\n",
    "\n",
    "model = LinearRegression()\n",
    "model.fit(xTrain[['Length of Membership']], yTrain)\n",
    "b0_, b1_ = model.intercept_, model.coef_\n",
    "\n",
    "print(b0_, b1_)\n",
    "\n",
    "plot_fitted_line(b0, b1, xTrain, yTrain, 'Linear Regression Line')"
   ]
  },
  {
   "cell_type": "markdown",
   "metadata": {},
   "source": [
    "### Use sklearn.metrics to calculate Mean absolute error, Mean squared error, Root mean squared error and R-squared for the results of your own function vs the sklearn regression results. Try to interprete your results."
   ]
  },
  {
   "cell_type": "code",
   "execution_count": 114,
   "metadata": {},
   "outputs": [
    {
     "name": "stdout",
     "output_type": "stream",
     "text": [
      "MAE cusom:  37.83623390033245\n",
      "MAE sklearn:  79.60521997120902 \n",
      "\n",
      "MSE cusom:  2162.1116327764266\n",
      "MSE sklearn:  2162.1116327764244 \n",
      "\n",
      "RMSE cusom:  46.498512156588696\n",
      "RMSE sklearn:  46.49851215658867 \n",
      "\n",
      "R2 cusom:  -0.6345256026427417\n",
      "R2 sklearn:  -0.6345256026427397\n"
     ]
    }
   ],
   "source": [
    "from sklearn.metrics import mean_squared_error, mean_absolute_error, r2_score\n",
    "\n",
    "y_pred_sklearn = model.predict(x_test.values.reshape(-1,1))\n",
    "y_pred_custom = b0 + b1 * x_test\n",
    "\n",
    "\n",
    "print('MAE cusom: ', mean_absolute_error(yTest, y_pred_custom))\n",
    "print('MAE sklearn: ', mean_absolute_error(y_test, y_pred_sklearn),'\\n')\n",
    "\n",
    "\n",
    "print('MSE cusom: ', mean_squared_error(yTest, y_pred_custom))\n",
    "print('MSE sklearn: ', mean_squared_error(yTest, y_pred_sklearn),'\\n')\n",
    "\n",
    "\n",
    "print('RMSE cusom: ', np.sqrt(mean_squared_error(yTest, y_pred_custom)))\n",
    "print('RMSE sklearn: ', np.sqrt(mean_squared_error(yTest, y_pred_sklearn)),'\\n'\"\")\n",
    "\n",
    "print('R2 cusom: ', r2_score(y_test, y_pred_custom))\n",
    "print('R2 sklearn: ', r2_score(y_test, y_pred_sklearn))"
   ]
  },
  {
   "cell_type": "markdown",
   "metadata": {},
   "source": [
    "### Fit linear regression to the data containing all numerical features using sklearn and use the same metrics to evaluate how good the model is."
   ]
  },
  {
   "cell_type": "code",
   "execution_count": 66,
   "metadata": {},
   "outputs": [
    {
     "name": "stdout",
     "output_type": "stream",
     "text": [
      "MAE:  8.575101376554272\n",
      "MSE:  111.06329597249922\n",
      "RMSE:  10.538657218664017\n",
      "R-squared:  0.9819676748095942\n"
     ]
    }
   ],
   "source": [
    "model = LinearRegression()\n",
    "from sklearn.metrics import mean_squared_error, mean_absolute_error, r2_score\n",
    "\n",
    "\n",
    "X = df[df.columns.difference(['Yearly Amount Spent'])]\n",
    "y = df['Yearly Amount Spent']\n",
    "\n",
    "x_train, x_test, y_train, y_test = train_test_split(X, y, test_size=0.2, random_state=40)\n",
    "model.fit(x_train, y_train)\n",
    "\n",
    "y_pred = model.predict(x_test)\n",
    "\n",
    "\n",
    "print('MAE: ', mean_absolute_error(y_test, y_pred))\n",
    "\n",
    "print('MSE: ', mean_squared_error(y_test, y_pred))\n",
    "\n",
    "print('RMSE: ', np.sqrt(mean_squared_error(y_test, y_pred)))\n",
    "\n",
    "print('R-squared: ', r2_score(y_test, y_pred)) "
   ]
  }
 ],
 "metadata": {
  "kernelspec": {
   "display_name": "Python 3",
   "language": "python",
   "name": "python3"
  },
  "language_info": {
   "codemirror_mode": {
    "name": "ipython",
    "version": 3
   },
   "file_extension": ".py",
   "mimetype": "text/x-python",
   "name": "python",
   "nbconvert_exporter": "python",
   "pygments_lexer": "ipython3",
   "version": "3.7.4"
  }
 },
 "nbformat": 4,
 "nbformat_minor": 4
}
